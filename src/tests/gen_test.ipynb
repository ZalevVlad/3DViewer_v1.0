{
 "cells": [
  {
   "cell_type": "code",
   "execution_count": null,
   "metadata": {},
   "outputs": [],
   "source": [
    "import sys"
   ]
  },
  {
   "cell_type": "code",
   "execution_count": null,
   "metadata": {},
   "outputs": [],
   "source": [
    "\n",
    "argn = len(sys.argv)\n",
    "if argn > 1 or argn < 4:\n",
    "    if argn == 2:\n",
    "        resfilename = sys.argv[1]\n",
    "    elif argn == 3:\n",
    "        resfilename = sys.argv[2]\n",
    "\n",
    "    f = open(sys.argv[1], 'r')\n",
    "    text = []\n",
    "    vcounter = 0\n",
    "    fcounter = 0\n",
    "    for line in f:\n",
    "        if len(line):\n",
    "            if line.startswith(\"v \"):\n",
    "                nums = [float(x) for x in line.split()[1:4]]\n",
    "                text.append(f\"ck_assert_int_eq(fabs(obj.vertexes.vertexes[{vcounter}].x - {nums[0]:.4f}) < EPS, 1);\")\n",
    "                text.append(f\"ck_assert_int_eq(fabs(obj.vertexes.vertexes[{vcounter}].y - {nums[1]:.4f}) < EPS, 1);\")\n",
    "                text.append(f\"ck_assert_int_eq(fabs(obj.vertexes.vertexes[{vcounter}].z - {nums[2]:.4f}) < EPS, 1);\")\n",
    "                text.append(f\"ck_assert_int_eq(fabs(obj.vertexes.vertexes[{vcounter}].w - 1.0000) < EPS, 1);\")\n",
    "                vcounter+=1\n",
    "            elif line.startswith(\"f \"):\n",
    "                nums = [int(x) for x in [col.split(\"/\")[0] for col in line.split()][1:]]\n",
    "                for i,num in enumerate(nums):\n",
    "                    text.append(f\"ck_assert_int_eq(obj.facets.facets[{fcounter}].numbers[{i}],{nums[i]});\")\n",
    "                fcounter+=1\n",
    "    \n",
    "    text.insert(0,f\"ck_assert_int_eq(obj.facets.len, {fcounter});\")\n",
    "    text.insert(0,f\"ck_assert_int_eq(obj.vertexes.len, {vcounter});\")\n",
    "    text.append(\"ck_assert_int_eq(res,OK);\")\n",
    "    text.append(\"free_obj(&obj);\")\n",
    "\n",
    "    \n",
    "    f.close()\n",
    "    \n",
    "    f_res = open(resfilename, 'w')\n",
    "    for line in text:\n",
    "        f_res.write(line + \"\\n\")\n",
    "    f_res.close()   \n",
    "else:\n",
    "    print(\"Need args\")"
   ]
  }
 ],
 "metadata": {
  "language_info": {
   "name": "python"
  },
  "orig_nbformat": 4
 },
 "nbformat": 4,
 "nbformat_minor": 2
}
